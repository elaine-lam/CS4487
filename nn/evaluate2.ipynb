{
 "cells": [
  {
   "cell_type": "code",
   "execution_count": 1,
   "metadata": {},
   "outputs": [],
   "source": [
    "from ultralytics import YOLO\n",
    "import torch\n",
    "import os\n",
    "import fnmatch\n",
    "import numpy as np\n",
    "from sklearn import metrics"
   ]
  },
  {
   "cell_type": "code",
   "execution_count": 2,
   "metadata": {},
   "outputs": [],
   "source": [
    "def data_loder(path):\n",
    "    img_paths = []\n",
    "    labels = []\n",
    "    for root, dirs, files in os.walk(path):\n",
    "        for name in files:\n",
    "            if fnmatch.fnmatch(name, \"*.jpg\"):\n",
    "                labels.append(0 if '0_real' in root else 1)\n",
    "                img_paths.append(os.path.join(root, name))\n",
    "    return (img_paths, labels)"
   ]
  },
  {
   "cell_type": "code",
   "execution_count": 3,
   "metadata": {},
   "outputs": [],
   "source": [
    "def evaluate(model, test_loader, batch_size):\n",
    "    # Validation phase\n",
    "    model.eval()\n",
    "    \n",
    "    y_true = np.array(test_loader[1])\n",
    "    \n",
    "    img_paths = test_loader[0]\n",
    "    y_pred = []\n",
    "\n",
    "    # Process images in batches\n",
    "    for i in range(0, len(img_paths), batch_size):\n",
    "        j = min(i + batch_size, len(img_paths))\n",
    "        batch_paths = img_paths[i:j]\n",
    "        results = model.predict(batch_paths, verbose=False)  # Predict batch\n",
    "        y_pred.extend([result.probs.top1 for result in results])  # Collect predictions\n",
    "\n",
    "    y_pred = np.array(y_pred)\n",
    "    accuracy = metrics.accuracy_score(y_true, y_pred)\n",
    "    return accuracy"
   ]
  },
  {
   "cell_type": "code",
   "execution_count": 4,
   "metadata": {},
   "outputs": [],
   "source": [
    "def load_model(model_path):\n",
    "    model = YOLO(model_path, task='classify', verbose=False)\n",
    "    model.to(DEVICE)\n",
    "    print(f'Model loaded from {model_path}')\n",
    "    return model"
   ]
  },
  {
   "cell_type": "code",
   "execution_count": 5,
   "metadata": {},
   "outputs": [
    {
     "name": "stdout",
     "output_type": "stream",
     "text": [
      "Model loaded from epoch3.pt\n",
      "Accuracy: 0.6896551724137931\n"
     ]
    }
   ],
   "source": [
    "if __name__ == \"__main__\":\n",
    "    DEVICE = torch.device(\"cuda\" if torch.cuda.is_available() else \"cpu\")\n",
    "   \n",
    "    #path to the model weights\n",
    "    model_weight_filename = r'epoch3.pt'\n",
    "    \n",
    "    model = load_model(model_weight_filename)\n",
    "    \n",
    "    \n",
    "    # Load the data\n",
    "    test_dataset_path = r'..\\AIGC-Detection-Dataset\\test'\n",
    "    batch_size = 512\n",
    "    \n",
    "    test_loader = data_loder(test_dataset_path)\n",
    "    \n",
    "    accuracy = evaluate(model, test_loader, batch_size)\n",
    "    print(f\"Accuracy: {accuracy}\")"
   ]
  },
  {
   "cell_type": "code",
   "execution_count": null,
   "metadata": {},
   "outputs": [],
   "source": []
  }
 ],
 "metadata": {
  "kernelspec": {
   "display_name": ".venv",
   "language": "python",
   "name": "python3"
  },
  "language_info": {
   "codemirror_mode": {
    "name": "ipython",
    "version": 3
   },
   "file_extension": ".py",
   "mimetype": "text/x-python",
   "name": "python",
   "nbconvert_exporter": "python",
   "pygments_lexer": "ipython3",
   "version": "3.11.9"
  }
 },
 "nbformat": 4,
 "nbformat_minor": 2
}
